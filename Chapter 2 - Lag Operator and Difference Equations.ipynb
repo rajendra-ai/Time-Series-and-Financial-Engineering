{
 "cells": [
  {
   "cell_type": "code",
   "execution_count": 1,
   "metadata": {},
   "outputs": [],
   "source": [
    "import sympy as sy\n",
    "from scipy.optimize import fsolve\n",
    "\n",
    "import pandas as pd\n",
    "import numpy as np\n",
    "import matplotlib.pyplot as plt\n",
    "from pandas_datareader import data, wb\n",
    "import datetime as dt\n",
    "import statsmodels.formula.api as smf\n",
    "import statsmodels.api as sm\n",
    "import scipy as sp\n",
    "from matplotlib.gridspec import GridSpec\n",
    "from statsmodels.graphics.tsaplots import plot_acf\n",
    "from statsmodels.graphics.tsaplots import pacf as pacf_func\n",
    "from statsmodels.graphics.tsaplots import acf as acf_func\n",
    "from statsmodels.tsa.stattools import adfuller\n",
    "import statsmodels.graphics.tsaplots as tsa\n",
    "\n",
    "from statsmodels.graphics.tsaplots import plot_pacf\n",
    "from statsmodels.tsa.arima_process import ArmaProcess\n",
    "from statsmodels.tsa.arima.model import ARIMA\n",
    "\n",
    "import pmdarima as pm\n",
    "from pmdarima import model_selection\n",
    "\n",
    "plt.style.use('ggplot')\n",
    "import tseries_func as tf\n",
    "\n",
    "import warnings\n",
    "warnings.filterwarnings('ignore')"
   ]
  },
  {
   "cell_type": "markdown",
   "metadata": {},
   "source": [
    "# <font face=\"gotham\" color=\"purple\"> Lag Operator"
   ]
  },
  {
   "cell_type": "markdown",
   "metadata": {},
   "source": [
    "Lag operator is a type of linear operator especially convenient in time series analysis, it has all properties that a linear operator should have.\n",
    "\n",
    "Consider an infinite time series $\\{y_t\\}^{\\infty}_{t=-\\infty}$, we operate with one lag is denoted as\n",
    "\n",
    "$$\n",
    "Ly_t = y_{t-1}\n",
    "$$"
   ]
  },
  {
   "cell_type": "markdown",
   "metadata": {},
   "source": [
    "Lag twice or three times\n",
    "\n",
    "$$\n",
    "L^2y_t = y_{t-2},\\qquad L^3y_t = y_{t-3}\n",
    "$$"
   ]
  },
  {
   "cell_type": "markdown",
   "metadata": {},
   "source": [
    "Or a polynomial lag operation \n",
    "\n",
    "$$\n",
    "(1- 3L)(2+4L)(1+2L)y_t\n",
    "$$"
   ]
  },
  {
   "cell_type": "markdown",
   "metadata": {},
   "source": [
    "It would be easier to demonstrate with SymPy's algebraic capacity:"
   ]
  },
  {
   "cell_type": "code",
   "execution_count": 2,
   "metadata": {},
   "outputs": [
    {
     "data": {
      "text/latex": [
       "$\\displaystyle - 24 L^{3} - 16 L^{2} + 2 L + 2$"
      ],
      "text/plain": [
       "-24*L**3 - 16*L**2 + 2*L + 2"
      ]
     },
     "execution_count": 2,
     "metadata": {},
     "output_type": "execute_result"
    }
   ],
   "source": [
    "L = sy.symbols('L')\n",
    "poly = (1-3*L)*(2+4*L)*(1+2*L)\n",
    "poly.expand()"
   ]
  },
  {
   "cell_type": "markdown",
   "metadata": {},
   "source": [
    "Operate on $y_t$\n",
    "\n",
    "$$\n",
    "(- 24 L^{3} - 16 L^{2} + 2 L + 2)y_t = -24y_{t-3}-16y_{t-2}+2y_{t-1}+2y_t\n",
    "$$"
   ]
  },
  {
   "cell_type": "markdown",
   "metadata": {},
   "source": [
    "# <font face=\"gotham\" color=\"purple\"> $1st$-Order Difference Equations"
   ]
  },
  {
   "cell_type": "markdown",
   "metadata": {},
   "source": [
    "Start with \n",
    "\n",
    "$$\n",
    "y_t = \\phi y_{t-1}+u_t \n",
    "$$"
   ]
  },
  {
   "cell_type": "markdown",
   "metadata": {},
   "source": [
    "Use lag operator and rearrange\n",
    "$$\n",
    "y_t-\\phi L y_t = u_t\\qquad\\longrightarrow\\qquad(1-\\phi L)y_t = u_t\n",
    "$$"
   ]
  },
  {
   "cell_type": "markdown",
   "metadata": {},
   "source": [
    "That mean it must be an inverse of $(1-\\phi L)$ which achieves\n",
    "\\begin{align}\n",
    "(1-\\phi L)^{-1}(1-\\phi L)y_t&=(1-\\phi L)^{-1}u_t\\\\\n",
    "y_t&=(1-\\phi L )^{-1}u_t\\tag{1}\\label{1}\n",
    "\\end{align}"
   ]
  },
  {
   "cell_type": "markdown",
   "metadata": {},
   "source": [
    "How do we find out what $(1-\\phi L)^{-1}$ is?"
   ]
  },
  {
   "cell_type": "markdown",
   "metadata": {},
   "source": [
    "Fortunately, we have encountered this type of series in high school, $(1-\\phi L)^{-1}$ can be expanded into an infinite geometric series\n",
    "\n",
    "$$\n",
    "\\frac{1}{1-\\phi L} = 1 + \\phi L + \\phi^2L^2 + \\phi^3L^3 + \\cdots =\\sum_{i=0}^\\infty (\\phi L)^i\n",
    "$$"
   ]
  },
  {
   "cell_type": "markdown",
   "metadata": {},
   "source": [
    "Rewrite equation $(1)$\n",
    "\n",
    "$$\n",
    "y_t = (1 + \\phi  L + \\phi^2L^2 + \\phi ^3L^3 + \\cdots)u_t = u_t +\\phi u_{t-1}+\\phi ^2u_{t-2} + \\phi ^3u_{t-3}+\\cdots \\tag{2}\\label{2}\n",
    "$$"
   ]
  },
  {
   "cell_type": "markdown",
   "metadata": {},
   "source": [
    "However, though we start from $y_t = \\phi y_{t-1}+u_t $ and derived $(2)$, they are not essential consistent. \n",
    "\n",
    "Because recall the solution of the $1st$ order difference equation by recursive substitution\n",
    "\n",
    "$$\n",
    "y_t = \\phi ^t y_0 + \\phi ^{t-1}u_{1} +  \\phi ^{t-2}u_{2} +\\phi ^{t-3}u_{3} + ... + \\phi u_{t-1} + u_t\\tag{3}\\label{3}\n",
    "$$"
   ]
  },
  {
   "cell_type": "markdown",
   "metadata": {},
   "source": [
    "Obviously, if you substract $(3)$ from $(2)$, it doesn't get a $0$."
   ]
  },
  {
   "cell_type": "markdown",
   "metadata": {},
   "source": [
    "The the leftover infinite series has high powers on $t$, they converge to $0$ on condition that $|\\phi|<1$, therefore the only missing term is $\\phi ^ty_0$. \n",
    "\n",
    "But we can still that the equation $(1)$ holds\n",
    "\\begin{align}\n",
    "y_t &= \\phi^ty_0 + (1-\\phi L)^{-1}u_t\\\\\n",
    "(1-\\phi L)y_t &= (1-\\phi L)\\phi^ty_0 + (1-\\phi L)(1-\\phi L)^{-1}u_t\\\\\n",
    "& = \\phi^ty_0 -\\phi\\phi^{t-1}y_0 + u_t\\\\\n",
    "&=u_t\n",
    "\\end{align}\n",
    "We proved $y_t=(1-\\phi L)^{-1}u_t $, here we assume that $y_0$ is an _initial condition_ which is a constant, which guarantees $Ly_0 = y_0$."
   ]
  },
  {
   "cell_type": "markdown",
   "metadata": {},
   "source": [
    "# <font face=\"gotham\" color=\"purple\"> $2nd$-Order Difference Equations"
   ]
  },
  {
   "cell_type": "markdown",
   "metadata": {},
   "source": [
    "Consider a $2nd$-order difference equation:\n",
    "\n",
    "$$\n",
    "y_t=\\phi_1y_{t-1}+\\phi_2y_{t-2}+u_t \\tag{4}\\label{4}\n",
    "$$\n",
    "\n",
    "In lag operator form\n",
    "\n",
    "$$\n",
    "(1-\\phi_1L-\\phi_2L^2)y_t=u_t\n",
    "$$"
   ]
  },
  {
   "cell_type": "markdown",
   "metadata": {},
   "source": [
    "The polynomial on the LHS can be factored\n",
    "\n",
    "$$\n",
    "1-\\phi_1L-\\phi_2L^2 = (1-\\lambda_1 L)(1-\\lambda_2 L) = 1-(\\lambda_1+\\lambda_2) L + \\lambda_1\\lambda_2 L^2\n",
    "$$"
   ]
  },
  {
   "cell_type": "markdown",
   "metadata": {},
   "source": [
    "The parameters of polynomial can be pinned down by a system of nonlinear equations\n",
    "\\begin{align}\n",
    "\\lambda_1+\\lambda_2 &= \\phi_1\\\\\n",
    "\\lambda_1\\lambda_2&=-\\phi_2\n",
    "\\end{align}"
   ]
  },
  {
   "cell_type": "markdown",
   "metadata": {},
   "source": [
    "Assume the model is\n",
    "$$\n",
    "y_t=0.9y_{t-1}+0.3y_{t-2}+u_t\n",
    "$$"
   ]
  },
  {
   "cell_type": "markdown",
   "metadata": {},
   "source": [
    "Solve the system of nonlinear equations with ```fsolve```"
   ]
  },
  {
   "cell_type": "code",
   "execution_count": 3,
   "metadata": {},
   "outputs": [
    {
     "name": "stdout",
     "output_type": "stream",
     "text": [
      "lambda1 : 1.1589, lambda2： -0.2589\n"
     ]
    }
   ],
   "source": [
    "def func(lamda):\n",
    "    lamda1, lamda2 = lamda[0], lamda[1]\n",
    "    F = np.empty(2)\n",
    "    F[0] = lamda1+lamda2-.9\n",
    "    F[1] = lamda1*lamda2+0.3\n",
    "    return F\n",
    "lamda_guess = np.array([0, 0]) # [1, 1] is initial value\n",
    "lamda1, lamda2 = fsolve(func, lamda_guess)\n",
    "print('lambda1 : {:.4f}, lambda2： {:.4f}'.format(lamda1, lamda2))"
   ]
  },
  {
   "cell_type": "markdown",
   "metadata": {},
   "source": [
    "$$\n",
    "1-0.9L-0.3L^2 = (1-\\underbrace{1.1589}_{\\lambda_1} L)(1+\\underbrace{0.2589}_{-\\lambda_2} L)\n",
    "$$"
   ]
  },
  {
   "cell_type": "markdown",
   "metadata": {},
   "source": [
    "As a reference, we post another solution from $2nd$ order difference equation, more details are in later sections"
   ]
  },
  {
   "cell_type": "code",
   "execution_count": 4,
   "metadata": {},
   "outputs": [
    {
     "name": "stdout",
     "output_type": "stream",
     "text": [
      "lambda1 and lambda2 are 1.159 and -0.259 respectively.\n"
     ]
    }
   ],
   "source": [
    "lamda1 = (.9+np.sqrt(.9**2+4*.3))/2\n",
    "lamda2 = (.9-np.sqrt(.9**2+4*.3))/2\n",
    "print('lambda1 and lambda2 are {0:.3f} and {1:.3f} respectively.'.format(lamda1, lamda2))"
   ]
  },
  {
   "cell_type": "markdown",
   "metadata": {},
   "source": [
    "The $\\lambda$'s here are actually the eigenvalues of the linear system if we rewrite the system into a matrix form. But don't worry about the details yet, we will demonstrate the gory details in this chapter later.\n",
    "\n",
    "The system $(4)$ will be stable only when both eigenvalues, $\\lambda_1$ and $\\lambda_2$'s modulus less than $1$, geometrically they must lie inside a unit circle, if lie on the unit circle or outside, the system is explosive."
   ]
  },
  {
   "cell_type": "code",
   "execution_count": 5,
   "metadata": {},
   "outputs": [],
   "source": [
    "ar_params = np.array([1, -0.8, 0.35]) # alwasy specify zero lag as 1\n",
    "ma_params = np.array([1]) # alwasy specify zero lag as 1\n",
    "ar2 = ArmaProcess(ar_params, ma_params) # the Class requires AR and MA's parameters\n",
    "ar2_sim = ar2.generate_sample(nsample=100)  \n",
    "ar2_sim = pd.DataFrame(ar2_sim, columns = ['AR(2)']) \n",
    "ar2_acf = acf_func(ar2_sim.values, fft=False, nlags = 50)  # return the numerical ACF "
   ]
  },
  {
   "cell_type": "code",
   "execution_count": 6,
   "metadata": {},
   "outputs": [
    {
     "data": {
      "image/png": "[encoded data removed]",
      "text/plain": [
       "<Figure size 1008x360 with 2 Axes>"
      ]
     },
     "metadata": {},
     "output_type": "display_data"
    }
   ],
   "source": [
    "fig, ax = plt.subplots(figsize = (14, 5), nrows=1, ncols=2)\n",
    "ar2_sim.plot(ax = ax[0])\n",
    "pd.DataFrame(ar2_acf).plot.bar(ax=ax[1], label='ACF')\n",
    "plt.show()"
   ]
  },
  {
   "cell_type": "markdown",
   "metadata": {
    "tags": []
   },
   "source": [
    "# <font face=\"gotham\" color=\"purple\"> Solving $1st$ Order Difference Equations </font>"
   ]
  },
  {
   "cell_type": "markdown",
   "metadata": {},
   "source": [
    "Now we turn to difference equations in more details, which are horses of all dynamic system researches, including time series analysis."
   ]
  },
  {
   "cell_type": "markdown",
   "metadata": {},
   "source": [
    "Difference equations are commonly solved by _recursive substitution_, consider the $1st$ difference equation below, where $u_t$ is a white noise process\n",
    "\n",
    "$$\n",
    "y_t = \\phi y_{t-1} + u_t \\tag{5}\\label{5}\n",
    "$$\n",
    "\n",
    "and shift one period backward\n",
    "\n",
    "$$\n",
    "y_{t-1} =\\phi  y_{t-2} + u_{t-1}\n",
    "$$"
   ]
  },
  {
   "cell_type": "markdown",
   "metadata": {},
   "source": [
    "Substitute back to the original equation $(1)$\n",
    "\n",
    "$$\n",
    "y_t = \\phi (\\phi y_{t-2} + u_{t-1}) + u_t = \\phi^2y_{t-2} + \\phi u_{t-1} +u_t\n",
    "$$\n",
    "\n",
    "then substitute $y_{t-2}$, \n",
    "\n",
    "$$\n",
    "y_t = \\phi^2(\\phi y_{t-3} + u_{t-2})  + \\phi u_{t-1}= \\phi^3y_{t-3}+\\phi^2u_{t-2}+\\phi u_{t-1}+u_t\n",
    "$$\n",
    "\n",
    "continue the recursive substitution, the solution will take form as an infinite series\n",
    "\n",
    "$$\n",
    "y_t = \\phi^t y_0 + \\phi^{t-1}u_{1} +  \\phi^{t-2}u_{2} + \\phi^{t-3}u_{3} + ... + \\phi u_{t-1} + u_t\n",
    "$$"
   ]
  },
  {
   "cell_type": "markdown",
   "metadata": {},
   "source": [
    "## <font face=\"gotham\" color=\"purple\"> Dynamic Multiplier"
   ]
  },
  {
   "cell_type": "markdown",
   "metadata": {},
   "source": [
    "The dynamic multiplier is a partial derivative toward $u_i,\\ i \\in (1,2,.., t)$, e.g. dynamic multiplier of $u_1$\n",
    "\n",
    "$$\n",
    "\\frac{\\partial y_t}{\\partial u_1} = \\phi^{t-1}\n",
    "$$"
   ]
  },
  {
   "cell_type": "markdown",
   "metadata": {},
   "source": [
    "The value of $\\phi$ characterizes the pattern of the difference equation.\n",
    "\n",
    "The charts below shows how the parameter $\\phi$ determines the system."
   ]
  },
  {
   "cell_type": "code",
   "execution_count": 7,
   "metadata": {},
   "outputs": [
    {
     "data": {
      "image/png": "[encoded data removed]",
      "text/plain": [
       "<Figure size 864x504 with 4 Axes>"
      ]
     },
     "metadata": {},
     "output_type": "display_data"
    }
   ],
   "source": [
    "y = np.zeros(30)\n",
    "y[0] = 100\n",
    "\n",
    "ax_pos = [221, 222, 223, 224]\n",
    "fig = plt.figure(figsize = (12, 7))\n",
    "tt = ['$\\phi=.9$', '$\\phi=1$', '$\\phi=1.3$', '$\\phi=-0.8$']\n",
    "phi = [.9, 1, 1.3, -.8]\n",
    "\n",
    "for j in range(4):\n",
    "    ax = fig.add_subplot(ax_pos[j])\n",
    "    for i in range(1, 30):\n",
    "        u = np.random.randn()\n",
    "        y[i] = phi[j]*y[i-1]+u\n",
    "    ax.bar(np.arange(len(y)),y)\n",
    "    ax.set_title(tt[j], size=16)\n",
    "plt.suptitle(r'$y_t=\\phi y_{t-1}+u_t$', size = 22)\n",
    "plt.show()"
   ]
  },
  {
   "cell_type": "markdown",
   "metadata": {},
   "source": [
    "As long as $-1<\\phi<1$, the system will be stable, otherwise explosive."
   ]
  },
  {
   "cell_type": "markdown",
   "metadata": {},
   "source": [
    "# <font face=\"gotham\" color=\"purple\"> Solving $k$-th Order Difference Equations"
   ]
  },
  {
   "cell_type": "markdown",
   "metadata": {},
   "source": [
    "Define the $k$-vector $\\pmb{y}_t$ by\n",
    "\n",
    "$$\n",
    "\\pmb{y}_t=\n",
    "\\left[\n",
    "\\begin{matrix}\n",
    "y_t\\\\\n",
    "y_{t-1}\\\\\n",
    "y_{t-2}\\\\\n",
    "\\vdots\\\\\n",
    "y_{t-k+1}\n",
    "\\end{matrix}\n",
    "\\right]\n",
    "$$"
   ]
  },
  {
   "cell_type": "markdown",
   "metadata": {},
   "source": [
    "Define the $k\\times k$ matrix $\\pmb{F}$ by\n",
    "\n",
    "$$\n",
    "\\pmb{F}=\n",
    "\\left[\n",
    "\\begin{matrix}\n",
    "\\phi_1 & \\phi_2 & \\phi_3 &\\cdots &\\phi_{k-1} & \\phi_k\\\\\n",
    "1 & 0 & 0 &\\cdots &0 & 0\\\\\n",
    "0 & 1 & 0 &\\cdots &0 & 0\\\\\n",
    "\\vdots  &\\vdots & \\vdots& \\ddots &\\vdots & \\vdots\\\\\n",
    "0 & 0 & 0 &\\cdots & 1 & 0\n",
    "\\end{matrix}\n",
    "\\right]\n",
    "$$"
   ]
  },
  {
   "cell_type": "markdown",
   "metadata": {},
   "source": [
    "Last, define $k$-vector $\\pmb{u}_t$ by\n",
    "\n",
    "$$\n",
    "\\pmb{u_t}=\n",
    "\\left[\n",
    "\\begin{matrix}\n",
    "u_t\\\\\n",
    "0\\\\\n",
    "0\\\\\n",
    "\\vdots\\\\\n",
    "0\n",
    "\\end{matrix}\n",
    "\\right]\n",
    "$$"
   ]
  },
  {
   "cell_type": "markdown",
   "metadata": {},
   "source": [
    "Thus linear system in matrix form is \n",
    "\n",
    "$$\n",
    "\\pmb{y}_t = \\pmb{F}\\pmb{y}_{t-1}+\\pmb{u}_t  \n",
    "$$\n",
    "\n",
    "or explicitly\n",
    "\n",
    "$$\n",
    "\\left[\n",
    "\\begin{matrix}\n",
    "y_t\\\\\n",
    "y_{t-1}\\\\\n",
    "y_{t-2}\\\\\n",
    "\\vdots\\\\\n",
    "y_{t-k+1}\n",
    "\\end{matrix}\n",
    "\\right]=\n",
    "\\left[\n",
    "\\begin{matrix}\n",
    "\\phi_1 & \\phi_2 & \\phi_3 &\\cdots &\\phi_{k-1} &\\phi_k\\\\\n",
    "1 & 0 & 0 &\\cdots &0 & 0\\\\\n",
    "0 & 1 & 0 &\\cdots &0 & 0\\\\\n",
    "\\vdots  &\\vdots & \\vdots& \\ddots &\\vdots & \\vdots\\\\\n",
    "0 & 0 & 0 &\\cdots & 1 & 0\n",
    "\\end{matrix}\n",
    "\\right]\n",
    "\\left[\n",
    "\\begin{matrix}\n",
    "y_{t-1}\\\\\n",
    "y_{t-2}\\\\\n",
    "y_{t-3}\\\\\n",
    "\\vdots\\\\\n",
    "y_{t-k}\n",
    "\\end{matrix}\n",
    "\\right]\n",
    "+\n",
    "\\left[\n",
    "\\begin{matrix}\n",
    "u_t\\\\\n",
    "0\\\\\n",
    "0\\\\\n",
    "\\vdots\\\\\n",
    "0\n",
    "\\end{matrix}\n",
    "\\right]\n",
    "$$"
   ]
  },
  {
   "cell_type": "markdown",
   "metadata": {},
   "source": [
    "The recursive substitutions of matrix form give us a general expression\n",
    "\n",
    "$$\n",
    "\\pmb{y}_t = \\pmb{F}^t \\pmb{y}_0 + \\pmb{F}^{t-1}\\pmb{u}_{1} + \\pmb{F}^{t-2}\\pmb{u}_{2} + \\pmb{F}^{t-3}\\pmb{u}_{3} + ... + \\pmb{F}\\pmb{u}_{t-1} + \\pmb{u}_t\n",
    "$$"
   ]
  },
  {
   "cell_type": "markdown",
   "metadata": {},
   "source": [
    "$$\n",
    "\\begin{aligned}\n",
    "\\left[\\begin{array}{c}\n",
    "y_{t} \\\\\n",
    "y_{t-1} \\\\\n",
    "y_{t-2} \\\\\n",
    "\\vdots \\\\\n",
    "y_{t-k+1}\n",
    "\\end{array}\\right]=\\pmb{F}^{t}\\left[\\begin{array}{c}\n",
    "y_{0} \\\\\n",
    "y_{-1} \\\\\n",
    "y_{-2} \\\\\n",
    "\\vdots \\\\\n",
    "y_{-k+1}\n",
    "\\end{array}\\right]+\\pmb{F}^{t-1}\\left[\\begin{array}{c}\n",
    "u_{1} \\\\\n",
    "0 \\\\\n",
    "0 \\\\\n",
    "\\vdots \\\\\n",
    "0\n",
    "\\end{array}\\right]+\\pmb{F}^{t-2}\\left[\\begin{array}{c}\n",
    "u_{2} \\\\\n",
    "0 \\\\\n",
    "0 \\\\\n",
    "\\vdots \\\\\n",
    "0\n",
    "\\end{array}\\right]\n",
    "+\\pmb{F}^{t-3}\\left[\\begin{array}{c}\n",
    "u_{3} \\\\\n",
    "0 \\\\\n",
    "0 \\\\\n",
    "\\vdots \\\\\n",
    "0\n",
    "\\end{array}\\right]+\\cdots+\\pmb{F}\\left[\\begin{array}{c}\n",
    "u_{t-1} \\\\\n",
    "0 \\\\\n",
    "0 \\\\\n",
    "\\vdots \\\\\n",
    "0\n",
    "\\end{array}\\right]\n",
    "\\end{aligned} \n",
    "+\n",
    "\\left[\\begin{array}{c}\n",
    "u_{t} \\\\\n",
    "0 \\\\\n",
    "0 \\\\\n",
    "\\vdots \\\\\n",
    "0\n",
    "\\end{array}\\right]\\tag{6}\\label{6}\n",
    "$$"
   ]
  },
  {
   "cell_type": "markdown",
   "metadata": {},
   "source": [
    "## <font face=\"gotham\" color=\"purple\"> Dynamic Multiplier"
   ]
  },
  {
   "cell_type": "markdown",
   "metadata": {},
   "source": [
    "If $\\pmb{F}$ has $k$ distinct eigenvalues, it is possible to be diagonalized, such that\n",
    "\n",
    "$$\n",
    "\\pmb{F} = \\pmb{P\\Lambda P}^{-1}\n",
    "$$"
   ]
  },
  {
   "cell_type": "markdown",
   "metadata": {},
   "source": [
    "where $\\pmb{P}$ holds all the distinct eigenvectors, whereas all the distinct eigenvalues stay on the principal diagonal of $\\pmb{\\lambda}$."
   ]
  },
  {
   "cell_type": "markdown",
   "metadata": {},
   "source": [
    "The eigenvalue can characterize the dynamic multiplier as we have seen for the $1st$-order difference equation. For instance, $\\pmb{F}^3$ is decomposed as\n",
    "\n",
    "$$\n",
    "\\pmb{F}^3  =  \\pmb{P\\Lambda P}^{-1}  \\pmb{P\\Lambda P}^{-1}  \\pmb{P\\Lambda P}^{-1} = \\pmb{P\\Lambda }  \\pmb{\\Lambda }  \\pmb{\\Lambda P}^{-1} =\\pmb{P}  \\pmb{\\Lambda }^3  \\pmb{P}^{-1} \n",
    "$$"
   ]
  },
  {
   "cell_type": "markdown",
   "metadata": {},
   "source": [
    "where \n",
    "\n",
    "$$\n",
    "\\pmb{\\Lambda }^3  = \\left[\\begin{array}{ccccc}\n",
    "\\lambda_{1}^{3} & 0 & 0 & \\cdots & 0 \\\\\n",
    "0 & \\lambda_{2}^{3} & 0 & \\cdots & 0 \\\\\n",
    "\\vdots & \\vdots & \\vdots & \\ddots & \\vdots \\\\\n",
    "0 & 0 & 0 & \\cdots & \\lambda_{k}^{3}\n",
    "\\end{array}\\right]\n",
    "$$"
   ]
  },
  {
   "cell_type": "markdown",
   "metadata": {},
   "source": [
    "Therefore in general, \n",
    "$$\n",
    "\\pmb{F}^t =\\pmb{P}  \\pmb{\\Lambda }^t  \\pmb{P}^{-1}\n",
    "$$"
   ]
  },
  {
   "cell_type": "markdown",
   "metadata": {},
   "source": [
    "Denote the $(i, j)$ element of $\\pmb{F}^t$ as $f^{(t)}_{ij}$, for instance the $(4, 5)$ element of $\\pmb{F}^{t-1}$ is $f^{(t-1)}_{45}$. The first row of system $(6)$ is"
   ]
  },
  {
   "cell_type": "markdown",
   "metadata": {},
   "source": [
    "$$\n",
    "y_t = f^{(t)}_{11}y_0+ f^{(t)}_{12}y_{-1} + f^{(t)}_{13}y_{-2} + \\cdots + f^{(t)}_{1k}y_{-k-1} + f^{(t-1)}_{11}u_1 +f^{(t-2)}_{11}u_2 +...+f^{1}_{11}u_{t-1}+u_{t}\n",
    "$$"
   ]
  },
  {
   "cell_type": "markdown",
   "metadata": {},
   "source": [
    "To generalize the time span\n",
    "\n",
    "$$\n",
    "y_{t+i} = f^{(i)}_{11}y_t+ f^{(i)}_{12}y_{t-1} + f^{(i)}_{13}y_{t-2} + \\cdots + f^{(i)}_{1k}y_{t-k-1} + f^{(i-1)}_{11}u_t +f^{(i-2)}_{11}u_{t+2} +...+f^{1}_{11}u_{t+i-1}+u_{t+i}\n",
    "$$"
   ]
  },
  {
   "cell_type": "markdown",
   "metadata": {},
   "source": [
    "The dynamic multiplier is \n",
    "\n",
    "$$\n",
    "\\frac{\\partial y_{t+i}}{\\partial u_t} = f^{(i-1)}_{11}\n",
    "$$"
   ]
  },
  {
   "cell_type": "markdown",
   "metadata": {},
   "source": [
    "We can show that dynamic multiplier is a linear combination of the power of eigenvalues.\n",
    "\n",
    "$$\n",
    "\\frac{\\partial y_{t+i}}{\\partial u_t} = f^{(i-1)}_{11} = c_1 \\lambda_1^{i-1}+c_2 \\lambda_2^{i-1}+ \\cdots + c_p \\lambda_p^{i-1}\n",
    "$$"
   ]
  },
  {
   "cell_type": "markdown",
   "metadata": {},
   "source": [
    "## <font face=\"gotham\" color=\"purple\"> Linear Combination of Eigenvalues of $\\pmb{F}$"
   ]
  },
  {
   "cell_type": "markdown",
   "metadata": {},
   "source": [
    "If we denote $t_{ij}$ and $t^{ij}$ the $(i, j)$ element of $\\pmb{P}$ and $\\pmb{P}^{-1}$ respectively. $\\pmb{F}^{i-1}$ can be explicitly written as\n",
    "\n",
    "$$\n",
    "\\pmb{F}^{i-1}=\\left[\\begin{array}{cccc}\n",
    "t_{11} & t_{12} & \\cdots & t_{1 k} \\\\\n",
    "t_{21} & t_{22} & \\cdots & t_{2 k} \\\\\n",
    "\\vdots & \\vdots & \\ddots & \\vdots \\\\\n",
    "t_{k 1} & t_{k 2} & \\cdots & t_{kk}\n",
    "\\end{array}\\right]\\left[\\begin{array}{ccccc}\n",
    "\\lambda_{1}^{i-1} & 0 & 0 & \\cdots & 0 \\\\\n",
    "0 & \\lambda_{2}^{i-1} & 0 & \\cdots & 0 \\\\\n",
    "\\vdots & \\vdots & \\vdots & \\ddots & \\vdots \\\\\n",
    "0 & 0 & 0 & \\cdots & \\lambda_{k}^{i-1}\n",
    "\\end{array}\\right]\\left[\\begin{array}{ccccc}\n",
    "t^{11} & t^{12} & \\cdots & t^{1 k} \\\\\n",
    "t^{21} & t^{22} & \\cdots & t^{2 k} \\\\\n",
    "\\vdots & \\vdots & \\ddots & \\vdots \\\\\n",
    "t^{k 1} & t^{k 2} & \\cdots & t^{k k}\n",
    "\\end{array}\\right]\n",
    "$$"
   ]
  },
  {
   "cell_type": "markdown",
   "metadata": {},
   "source": [
    "The $(1, 1)$ element of $\\pmb{F}^{i-1}$ is \n",
    "\n",
    "\\begin{align}\n",
    "f^{(i-1)}_{11}&=\\left(t_{11} t^{11}\\right) \\lambda_{1}^{i-1}+\\left(t_{12} t^{21}\\right) \\lambda_{2}^{i-1}+\\cdots+\\left(t_{1 k} t^{k 1}\\right) \\lambda_{k}^{i-1}\\\\&=c_{1} \\lambda_{1}^{i-1}+c_{2} \\lambda_{2}^{i-1}+\\cdots+c_{p} \\lambda_{k}^{i-1}\n",
    "\\end{align}"
   ]
  },
  {
   "cell_type": "markdown",
   "metadata": {},
   "source": [
    "where $c_j = t_{1j}t^{j1},\\ j \\in (1,...,k)$."
   ]
  },
  {
   "cell_type": "markdown",
   "metadata": {},
   "source": [
    "Fortunately, not hard to notice that\n",
    "\n",
    "$$\n",
    "c_1+c_2+\\cdots+c_k = t_{11}t^{11}+t_{12}t^{21}+\\cdots + t_{1k}t^{k1}=1\n",
    "$$\n",
    "\n",
    "is the $(1,1)$ element of $\\pmb{P}\\pmb{P}^{-1}$ which also happen to be $1$."
   ]
  },
  {
   "cell_type": "markdown",
   "metadata": {},
   "source": [
    "We have completed the proof that the dynamic multiplier is the linear combination of eigenvalues\n",
    "\n",
    "$$\n",
    "\\frac{\\partial y_{t+i}}{\\partial u_t} = f^{(i-1)}_{11} = c_1 \\lambda_1^{i-1}+c_2 \\lambda_2^{i-1}+ \\cdots + c_p \\lambda_p^{i-1}\n",
    "$$"
   ]
  },
  {
   "cell_type": "markdown",
   "metadata": {},
   "source": [
    "## <font face=\"gotham\" color=\"purple\"> Solution of $2nd$-Order Difference Equation"
   ]
  },
  {
   "cell_type": "markdown",
   "metadata": {},
   "source": [
    "For a $2nd$ order difference equation\n",
    "$$\n",
    "y_t = \\phi_1 y_{t-1} +\\phi_2 y_{t-2} u_t \n",
    "$$\n",
    "The eigenvalues of $\\pmb{F}$ is found by solving characteristic equation $|\\pmb{F}-\\lambda \\pmb{I}_p|=0$, if you don't know what it means, click <a href='https://nbviewer.org/github/WeijieChen-MacroAnalyst/Linear_Algebra_With_Python/blob/master/Chapter%2012%20-%20Eigenvalues%20and%20Eigenvectors.ipynb'>here</a>, explicitly\n",
    "\n",
    "$$\n",
    "\\left|\n",
    "\\left[\n",
    "\\begin{matrix}\n",
    "\\phi_1 & \\phi_2\\\\\n",
    "1 & 0\n",
    "\\end{matrix}\n",
    "\\right]-\n",
    "\\lambda\\left[\n",
    "\\begin{matrix}\n",
    "1 & 0\\\\\n",
    "0 & 1\n",
    "\\end{matrix}\n",
    "\\right]\n",
    "\\right|=0\n",
    "$$\n",
    "\n",
    "or in polynomial form\n",
    "\n",
    "$$\n",
    "\\left|\n",
    "\\begin{matrix}\n",
    "\\phi_1-\\lambda & \\phi_2\\\\\n",
    "1 & -\\lambda\n",
    "\\end{matrix}\n",
    "\\right|=\n",
    "\\lambda^2-\\phi_1\\lambda-\\phi_2=0\n",
    "$$"
   ]
  },
  {
   "cell_type": "markdown",
   "metadata": {},
   "source": [
    "Now recall a high school formula \n",
    "\n",
    "$$\n",
    "x=\\frac{-b \\pm \\sqrt{b^{2}+4 a c}}{2 a}\n",
    "$$"
   ]
  },
  {
   "cell_type": "markdown",
   "metadata": {},
   "source": [
    "We obtain roots by plug-in\n",
    "\n",
    "$$\n",
    "\\lambda_1=\\frac{\\phi_1+\\sqrt{\\phi_1^2+4\\phi_2}}{2}\\\\\n",
    "\\lambda_2=\\frac{\\phi_1-\\sqrt{\\phi_1^2+4\\phi_2}}{2}\n",
    "$$"
   ]
  },
  {
   "cell_type": "markdown",
   "metadata": {},
   "source": [
    "As an example, consider a second-order difference equation\n",
    "$$\n",
    "y_t=0.9y_{t-1}+0.3y_{t-2}+u_t\n",
    "$$\n",
    "\n",
    "Solve for the eigenvalues via formulae above "
   ]
  },
  {
   "cell_type": "code",
   "execution_count": 8,
   "metadata": {},
   "outputs": [
    {
     "name": "stdout",
     "output_type": "stream",
     "text": [
      "lambda1 and lambda2 are 1.159 and -0.259 respectively.\n"
     ]
    }
   ],
   "source": [
    "lamda1 = (.9+np.sqrt(.9**2+4*.3))/2\n",
    "lamda2 = (.9-np.sqrt(.9**2+4*.3))/2\n",
    "print('lambda1 and lambda2 are {0:.3f} and {1:.3f} respectively.'.format(lamda1, lamda2))"
   ]
  },
  {
   "cell_type": "markdown",
   "metadata": {},
   "source": [
    "We actually used the same example from lag operator's section, the eigenvalues are the same as well."
   ]
  },
  {
   "cell_type": "markdown",
   "metadata": {},
   "source": [
    "The weight of powre of eigenvalues \n",
    "\n",
    "$$\n",
    "c_1 = \\frac{\\lambda_1}{\\lambda_1 +|\\lambda_2|}\\\\\n",
    "c_2 = \\frac{|\\lambda_2|}{\\lambda_1 +|\\lambda_2|}\n",
    "$$"
   ]
  },
  {
   "cell_type": "code",
   "execution_count": 9,
   "metadata": {},
   "outputs": [
    {
     "name": "stdout",
     "output_type": "stream",
     "text": [
      "c1 and c2 are 0.817 and 0.183 respectively.\n"
     ]
    }
   ],
   "source": [
    "c1 = lamda1/(lamda1+np.abs(lamda2))\n",
    "c2 = np.abs(lamda2)/(lamda1+np.abs(lamda2))\n",
    "print('c1 and c2 are {0:.3f} and {1:.3f} respectively.'.format(c1, c2))"
   ]
  },
  {
   "cell_type": "markdown",
   "metadata": {},
   "source": [
    "The dynamic multiplier\n",
    "\n",
    "$$\n",
    "\\frac{\\partial y_{t+i}}{\\partial u_t}= c_1 \\lambda_1^{i-1}+c_2 \\lambda_2^{i-1} \n",
    "$$"
   ]
  },
  {
   "cell_type": "code",
   "execution_count": 10,
   "metadata": {},
   "outputs": [
    {
     "data": {
      "image/png": "[encoded data removed]",
      "text/plain": [
       "<Figure size 432x288 with 1 Axes>"
      ]
     },
     "metadata": {},
     "output_type": "display_data"
    }
   ],
   "source": [
    "i = np.arange(1, 21)\n",
    "pypu = c1*lamda1**(i-1)+c2*lamda2**(i-1)\n",
    "plt.bar(np.arange(len(pypu))+1, pypu)\n",
    "plt.show()"
   ]
  },
  {
   "cell_type": "markdown",
   "metadata": {},
   "source": [
    "This is an explosive system, since one eigenvalue is larger than $1$. However let's take a look at the graph below, demonstrating different eigenvalues and corresponding behaviors of the system.They are plotted as functions of $i$: $f(i)= c_1 \\lambda_1^{i-1}+c_2 \\lambda_2^{i-1}$"
   ]
  },
  {
   "cell_type": "code",
   "execution_count": 11,
   "metadata": {},
   "outputs": [
    {
     "data": {
      "image/png": "[encoded data removed]",
      "text/plain": [
       "<Figure size 864x504 with 4 Axes>"
      ]
     },
     "metadata": {},
     "output_type": "display_data"
    }
   ],
   "source": [
    "i = np.arange(1, 50)\n",
    "\n",
    "lamda1 = [.99, 1.1, -.9, -1.2]\n",
    "lamda2 = [.01, -1.1, 1.1, .4]\n",
    "c1 = .99\n",
    "c2 = 1 - c1\n",
    "\n",
    "fig = plt.figure(figsize = (12, 7))\n",
    "ax_pos = [221, 222, 223, 224]\n",
    "\n",
    "for j in range(4):\n",
    "    ax = fig.add_subplot(ax_pos[j])\n",
    "    pypu1 = c1*lamda1[j]**(i-1)+c2*lamda2[j]**(i-1)\n",
    "    ax.bar(np.arange(len(pypu1))+1, pypu1)\n",
    "    tt = '$\\lambda_1 = %.3f,\\ \\lambda_2 = %.3f$'%(lamda1[j], lamda2[j])\n",
    "    ax.set_title(tt, size = 13, color = 'r')\n",
    "plt.suptitle('$\\partial y_{t+i}/\\partial u_t = c_1 \\lambda_1^{i-1}+c_2 \\lambda_2^{i-1}, c_1 = %.3f, c_2 = %.3f$'%(c1, c2), size = 22, color = 'b', x = .5, y = 1.005)\n",
    "plt.show()"
   ]
  },
  {
   "cell_type": "markdown",
   "metadata": {},
   "source": [
    "## <font face=\"gotham\" color=\"purple\"> The Dynamic Multiplier of $3rd$- and $4th$-Order Difference Equation"
   ]
  },
  {
   "cell_type": "markdown",
   "metadata": {},
   "source": [
    "Suppose the dynamic multiplier is $f(i)= c_1 \\lambda_1^{i-1}+c_2 \\lambda_2^{i-1}+c_3 \\lambda_3^{i-1}$"
   ]
  },
  {
   "cell_type": "code",
   "execution_count": 12,
   "metadata": {},
   "outputs": [
    {
     "data": {
      "image/png": "[encoded data removed]",
      "text/plain": [
       "<Figure size 864x504 with 4 Axes>"
      ]
     },
     "metadata": {},
     "output_type": "display_data"
    }
   ],
   "source": [
    "i = np.arange(1, 50)\n",
    "\n",
    "lambda1 = [.6, 1.1, -.2, -1.2]\n",
    "lambda2 = [.01, -1.1, 1.3, -.4]\n",
    "lambda3 = [1.01, 0.1, -1.1, .9]\n",
    "\n",
    "c1 = .23\n",
    "c2 = .58\n",
    "c3 = 1 - c1 - c2\n",
    "\n",
    "fig = plt.figure(figsize = (12, 7))\n",
    "ax_pos = [221, 222, 223, 224]\n",
    "\n",
    "for j in range(4):\n",
    "    ax = fig.add_subplot(ax_pos[j])\n",
    "    pypu1 = c1*lambda1[j]**(i-1)+c2*lambda2[j]**(i-1)+c3*lambda3[j]**(i-1)\n",
    "    ax.bar(np.arange(len(pypu1))+1, pypu1)\n",
    "    tt = '$\\lambda_1 = %.3f,\\ \\lambda_2 = %.3f,\\ \\lambda_3 = %.3f$'%(lambda1[j], lambda2[j], lambda3[j])\n",
    "    ax.set_title(tt, size = 13, color = 'r')\n",
    "plt.suptitle('$\\partial y_{t+i}/\\partial u_t = c_1 \\lambda_1^{i-1}+c_2 \\lambda_2^{i-1}+c_3 \\lambda_3^{i-1}, c_1 = %.3f, c_2 = %.3f, c_3 = %.3f$'%(c1, c2, c3), \n",
    "             size = 22, color = 'b', x = .5, y = 1.005)\n",
    "plt.show()"
   ]
  }
 ],
 "metadata": {
  "kernelspec": {
   "display_name": "Python 3 (ipykernel)",
   "language": "python",
   "name": "python3"
  },
  "language_info": {
   "codemirror_mode": {
    "name": "ipython",
    "version": 3
   },
   "file_extension": ".py",
   "mimetype": "text/x-python",
   "name": "python",
   "nbconvert_exporter": "python",
   "pygments_lexer": "ipython3",
   "version": "3.9.12"
  },
  "toc": {
   "base_numbering": 1,
   "nav_menu": {},
   "number_sections": true,
   "sideBar": true,
   "skip_h1_title": false,
   "title_cell": "Table of Contents",
   "title_sidebar": "Contents",
   "toc_cell": true,
   "toc_position": {},
   "toc_section_display": true,
   "toc_window_display": false
  }
 },
 "nbformat": 4,
 "nbformat_minor": 4
}
